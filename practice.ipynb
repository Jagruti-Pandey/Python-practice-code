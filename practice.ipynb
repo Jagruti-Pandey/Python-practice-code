{
 "cells": [
  {
   "cell_type": "markdown",
   "id": "315f29e7",
   "metadata": {},
   "source": [
    "Python Program to Find the Largest Among Three Numbers"
   ]
  },
  {
   "cell_type": "code",
   "execution_count": 3,
   "id": "de0deb87",
   "metadata": {},
   "outputs": [
    {
     "name": "stdout",
     "output_type": "stream",
     "text": [
      "no1 is largest number\n"
     ]
    }
   ],
   "source": [
    "no1=int(input(\"Enter no1:\"))\n",
    "no2=int(input(\"Enter no2:\"))\n",
    "no3=int(input(\"Enter no3:\"))\n",
    "if no1>no2 and no1>no3:\n",
    "    print(\"no1 is largest number\")\n",
    "elif no2>no1 and no2>no3:\n",
    "    print(\"no2 is largest\")\n",
    "elif no3>no1 and no3>no2:\n",
    "    print(\"no3 is largest\")\n",
    "else:\n",
    "    print(\"Error\")        \n",
    "\n"
   ]
  },
  {
   "cell_type": "markdown",
   "id": "3c07abed",
   "metadata": {},
   "source": [
    "A toy vendor supplies three types of toys:Battery Based Toys,Key-based Toys,Electrical Charging Based Toys.The vendor gives discounts based on the product type and order amount:Battery-based toys: 10% discount if order > Rs. 1000,Key-based toys: 5% discount if order > Rs. 100,Electrical charging based toys: 10% discount if order > Rs. 500,Write a program that:Reads the product code (1, 2, or 3 for each toy type),Reads the order amount,Prints the net amount the customer must pay after the discount."
   ]
  },
  {
   "cell_type": "code",
   "execution_count": null,
   "id": "64774344",
   "metadata": {},
   "outputs": [
    {
     "name": "stdout",
     "output_type": "stream",
     "text": [
      "Net amount after discount:RS.1800.0\n"
     ]
    }
   ],
   "source": [
    "code=int(input(\"Enter code(1/2/3):\"))\n",
    "amount=int(input(\"Enter amount:\"))\n",
    "if code==1:# Battery Based Toys\n",
    "    if amount>1000:\n",
    "        discount=0.10\n",
    "    else:\n",
    "        discount=0\n",
    "elif code==2:# Key-based Toys \n",
    "    if amount>100:\n",
    "        discount=0.05\n",
    "    else:\n",
    "        discount=0\n",
    "elif code==3:# Electrical charging based toys\n",
    "    if amount>500:\n",
    "        discount=0.10\n",
    "    else:\n",
    "        discount=0\n",
    "else:\n",
    "    print(\"Invalid code\")\n",
    "    discount=0         \n",
    "\n",
    "net_amount=amount-(discount*amount)\n",
    "print(f\"Net amount after discount:RS.{net_amount}\")                   "
   ]
  },
  {
   "cell_type": "markdown",
   "id": "688f15a2",
   "metadata": {},
   "source": [
    "Declare a div() function with two parameters. Then call the function and pass two numbers and display their division."
   ]
  },
  {
   "cell_type": "code",
   "execution_count": 9,
   "id": "435a2f49",
   "metadata": {},
   "outputs": [
    {
     "name": "stdout",
     "output_type": "stream",
     "text": [
      "Division:2.5\n"
     ]
    }
   ],
   "source": [
    "def div(x,y):\n",
    "    result=x/y\n",
    "    print(f\"Division:{result}\")\n",
    "div(5,2)    "
   ]
  },
  {
   "cell_type": "markdown",
   "id": "b82c547e",
   "metadata": {},
   "source": [
    "Declare a square() function with one parameter. Then call the function and pass one number and display the square of that number."
   ]
  },
  {
   "cell_type": "code",
   "execution_count": 10,
   "id": "c0458bb4",
   "metadata": {},
   "outputs": [
    {
     "name": "stdout",
     "output_type": "stream",
     "text": [
      "Square:25\n"
     ]
    }
   ],
   "source": [
    "def square(z):\n",
    "    result=z**2\n",
    "    print(f\"Square:{result}\")\n",
    "square(5)"
   ]
  }
 ],
 "metadata": {
  "kernelspec": {
   "display_name": "Python 3",
   "language": "python",
   "name": "python3"
  },
  "language_info": {
   "codemirror_mode": {
    "name": "ipython",
    "version": 3
   },
   "file_extension": ".py",
   "mimetype": "text/x-python",
   "name": "python",
   "nbconvert_exporter": "python",
   "pygments_lexer": "ipython3",
   "version": "3.12.0"
  }
 },
 "nbformat": 4,
 "nbformat_minor": 5
}
